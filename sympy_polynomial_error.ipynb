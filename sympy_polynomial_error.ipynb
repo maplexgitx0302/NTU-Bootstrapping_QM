{
 "cells": [
  {
   "cell_type": "markdown",
   "metadata": {},
   "source": [
    "# Solving polynomial error\n",
    "\n",
    "Check https://github.com/sympy/sympy/issues/22856"
   ]
  },
  {
   "cell_type": "code",
   "execution_count": 1,
   "metadata": {},
   "outputs": [],
   "source": [
    "import sympy as sp"
   ]
  },
  {
   "cell_type": "code",
   "execution_count": 6,
   "metadata": {},
   "outputs": [],
   "source": [
    "class Matrix:\n",
    "    def __init__(self, N):\n",
    "        self.E = sp.symbols('E') # the matrix determinant will be represented as polynomial in E\n",
    "        self.elements = [] # list of matrix elements\n",
    "        for i in range(2*N):\n",
    "            if i >= 2:\n",
    "                self.elements.append(self.recursion(s=i, X=self.elements[i-1], Y=self.elements[i-2]))\n",
    "            else:\n",
    "                self.elements.append(self.recursion(s=i))\n",
    "\n",
    "        self.m = sp.Matrix([[self.elements[i+j] for j in range(N)] for i in range(N)])\n",
    "\n",
    "    def recursion(self, s, X=None, Y=None):\n",
    "        if s == 0:\n",
    "            return 1\n",
    "        elif s == 1:\n",
    "            return self.E\n",
    "        else:\n",
    "            return s*self.E*X + 0.5*Y"
   ]
  },
  {
   "cell_type": "code",
   "execution_count": 7,
   "metadata": {},
   "outputs": [
    {
     "name": "stdout",
     "output_type": "stream",
     "text": [
      "Is the determinant polynomial :  True\n",
      "Is this element polynomial :  True\n",
      "Is this element polynomial :  True\n",
      "Is this element polynomial :  True\n",
      "Is this element polynomial :  True\n",
      "Is this element polynomial :  True\n",
      "Is this element polynomial :  True\n",
      "Is this element polynomial :  True\n",
      "Is this element polynomial :  True\n",
      "Is this element polynomial :  True\n",
      "Is this element polynomial :  True\n",
      "Is this element polynomial :  True\n",
      "Is this element polynomial :  True\n",
      "Is this element polynomial :  True\n",
      "Is this element polynomial :  True\n",
      "Is this element polynomial :  True\n",
      "Is this element polynomial :  True\n",
      "The determinant looks like : \n",
      " 144*E**12 + 624*E**10 + 648*E**8 + 184*E**6 - 15*E**4 - 4*E**2\n"
     ]
    }
   ],
   "source": [
    "N = 4\n",
    "m = Matrix(N).m\n",
    "det = m.det()\n",
    "\n",
    "print(\"Is the determinant polynomial : \", det.is_polynomial()) # will get False\n",
    "for element in m:\n",
    "    print(\"Is this element polynomial : \", element.is_polynomial()) # will get True\n",
    "\n",
    "print(\"The determinant looks like : \\n\", det)"
   ]
  }
 ],
 "metadata": {
  "interpreter": {
   "hash": "f336cad6fe0400acb6be73673a858595ff5f79cefd0dee5173965bcb3aeeb558"
  },
  "kernelspec": {
   "display_name": "Python 3.8.9 64-bit ('3.8.9': pyenv)",
   "language": "python",
   "name": "python3"
  },
  "language_info": {
   "codemirror_mode": {
    "name": "ipython",
    "version": 3
   },
   "file_extension": ".py",
   "mimetype": "text/x-python",
   "name": "python",
   "nbconvert_exporter": "python",
   "pygments_lexer": "ipython3",
   "version": "3.8.9"
  },
  "orig_nbformat": 4
 },
 "nbformat": 4,
 "nbformat_minor": 2
}

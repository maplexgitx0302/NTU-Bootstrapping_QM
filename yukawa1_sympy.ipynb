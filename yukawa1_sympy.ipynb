{
 "cells": [
  {
   "cell_type": "markdown",
   "metadata": {},
   "source": [
    "# Bootstrapping with Yukawa Potential to first order\n",
    "\n",
    "Similar to Coulomb Potential (Hydrogen Atom), but the Yukawa potential is $V(r)=-\\frac{k}{r}e^{-a mr}$."
   ]
  },
  {
   "cell_type": "code",
   "execution_count": 1,
   "metadata": {},
   "outputs": [],
   "source": [
    "import os, time\n",
    "import numpy as np\n",
    "import sympy as sp\n",
    "from bootstrap_sympy import sympy_solve_intervals, plot_energy_interval\n",
    "\n",
    "import matplotlib.pyplot as plt\n",
    "import seaborn as sns"
   ]
  },
  {
   "cell_type": "markdown",
   "metadata": {},
   "source": [
    "## Recursion relation for Yukawa Potential to first order\n",
    "\n",
    "The recursion relation can be easily derived. Consider $l=0$ case:\n",
    "\n",
    "\\begin{equation*}\n",
    "    \\frac{1}{4}(s+1)s(s-1)\\langle r^{s-2}\\rangle + 2E(s+1)\\langle r^s\\rangle\n",
    "    -a k\\langle r^s e^{-a r}\\rangle + k(2s+1)\\langle r^{s-1}e^{-a r}\\rangle = 0\n",
    "\\end{equation*}\n",
    "\n",
    "To the first order, we set $e^{-ar} = 1-ar + O(a^2)$, and discard higher order terms. Add the angular momentum terms, we can get\n",
    "\n",
    "\\begin{equation*}\n",
    "    \\langle r^s\\rangle = -\\frac{1}{E-a k}\\frac{k(2s+1)}{2(s+1)}\\langle r^{s-1}\\rangle\n",
    "    -\\frac{1}{E-a k} [\\frac{s(s-1)}{8} - \\frac{sl(l+1)}{2(s+1)}]\\langle r^{s-2}\\rangle\n",
    "\\end{equation*}\n",
    "\n",
    "$\\langle r^0\\rangle=1$ by normalization. Take $s=1$, we get $\\langle r^1\\rangle=-\\frac{3k}{4(E-a k)}-\\frac{l(l+1)}{2k}$.\n",
    "\n",
    "Set $E^\\prime = -\\frac{1}{E-ak}$, we get $\\langle r^1\\rangle=\\frac{3k}{4}E^\\prime-\\frac{l(l+1)}{2k}$ and\n",
    "\n",
    "\\begin{equation*}\n",
    "    \\langle r^s\\rangle = E^\\prime\\frac{k(2s+1)}{2(s+1)}\\langle r^{s-1}\\rangle\n",
    "    +E^\\prime[\\frac{s(s-1)}{8} - \\frac{sl(l+1)}{2(s+1)}]\\langle r^{s-2}\\rangle\n",
    "\\end{equation*}"
   ]
  },
  {
   "cell_type": "code",
   "execution_count": 2,
   "metadata": {},
   "outputs": [],
   "source": [
    "class FirstOrderYukawaPotentialMatrix:\n",
    "    def __init__(self, N, angular_momentum=True):\n",
    "        self.N = N # maximum size of submatrix\n",
    "        self.k = sp.symbols('k') # constant of harmonic potential\n",
    "        self.E = sp.symbols('E') # eigen-energy to be solved (Note the true energy is 1/E)\n",
    "        self.l = sp.symbols('l') # angular momentum quantum number\n",
    "        self.a = sp.symbols('a') # Yukawa potential scaling constant\n",
    "        self.angular_momentum = angular_momentum\n",
    "        \n",
    "    def evaluate(self):\n",
    "        '''\n",
    "            - If assign the value of other paramters (i.e., k) first, it will give the matrix element list with only E\n",
    "            - Otherwise it will represented ohter parameters with symbols\n",
    "        '''\n",
    "        self.rs_list = [] # list of r^s, the expectation value of position operator r to the s power\n",
    "        for i in range(2*(self.N-1)+1):\n",
    "            if i >= 2:\n",
    "                self.rs_list.append(self.rs_recursion(s=i, rs_1=self.rs_list[i-1], rs_2=self.rs_list[i-2]))\n",
    "            else:\n",
    "                self.rs_list.append(self.rs_recursion(s=i))\n",
    "\n",
    "    def rs_recursion(self, s, rs_1=None, rs_2=None):\n",
    "        '''\n",
    "            Find the <r^s> with recursion relation\n",
    "        '''\n",
    "        E = self.E # It is actually E'\n",
    "        k = self.k\n",
    "        l = self.l\n",
    "        a = self.a\n",
    "        if s == 0:\n",
    "            return 1\n",
    "        elif s == 1:\n",
    "            result = sp.Rational(3,4) * k * E\n",
    "            if self.angular_momentum:\n",
    "                result += -sp.Rational(1,2) * l*(l+1) / k\n",
    "            return result\n",
    "        else:\n",
    "            if rs_1 == None or rs_2 == None:\n",
    "                rs_1 = self.rs_recursion(s-1)\n",
    "                rs_2 = self.rs_recursion(s-2)\n",
    "            result  = k * sp.Rational(2*s+1,2*s+2) * rs_1 * E\n",
    "            result += sp.Rational(s*(s-1),8) * rs_2 * E\n",
    "            if self.angular_momentum:\n",
    "                result += -sp.Rational(s,2*s+2) * l*(l+1) * rs_2 * E\n",
    "            return sp.simplify(result)\n",
    "\n",
    "    def submatrix(self, K):\n",
    "        '''\n",
    "            K by K matrix's [i,j] element = <r^(i+j)>\n",
    "        '''\n",
    "        return sp.Matrix([[self.rs_list[i+j] for j in range(K)] for i in range(K)])"
   ]
  },
  {
   "cell_type": "markdown",
   "metadata": {},
   "source": [
    "## Set hyperparameters\n",
    "\n",
    "We set hyperparameters in the `config` dictionary. Here is some following instructions of the function `matrix.evaluate()`:\n",
    "- If you want to see the expression of matrix elements and determinants with other explicit parameters (i.e., $k$), please evaluate the matrix before assigning numerical values, or just simply remove lines `matrix.k = ...`  , .etc.\n",
    "- On the other hand, to accelerate the computation, please assign the numerical values (except $E$) before `matrix.evaluate()`\n",
    "\n",
    "**Warning** : According to the author, $l=0$ will be failed."
   ]
  },
  {
   "cell_type": "code",
   "execution_count": 3,
   "metadata": {},
   "outputs": [
    {
     "name": "stdout",
     "output_type": "stream",
     "text": [
      "Checkpoint exists, checkpoint max K=10\n",
      "\n",
      "Now calculating determinant size 11x11\n",
      "Calculating determinant time :  117.04\n",
      "Solving  inequalities time : 10.25\n",
      "Survived interval = Union(Interval(7.67074872046574, 8.01088122310762), Interval(15.9074249644237, 18.4867776319722), Interval(27.1105965619036, oo))\n",
      "\n",
      "Now calculating determinant size 12x12\n",
      "Calculating determinant time :  138.48\n",
      "Solving  inequalities time : 5.62\n",
      "Survived interval = Union(Interval(7.67167088219519, 8.00615465445329), Interval(16.2275712152428, 18.2212679216046), Interval(27.1289151896865, oo))\n",
      "\n",
      "Now calculating determinant size 13x13\n",
      "Calculating determinant time :  249.52\n",
      "Solving  inequalities time : 13.84\n",
      "Survived interval = Union(Interval(7.72313160802776, 8.00369224099637), Interval(16.3996182116125, 18.1212066410720), Interval(27.3715713411375, 35.3377752228066), Interval(40.8598490451483, oo))\n",
      "\n",
      "Now calculating determinant size 14x14\n",
      "Calculating determinant time :  376.59\n",
      "Solving  inequalities time : 21.53\n",
      "Survived interval = Union(Interval(7.77420756889773, 8.00232590174511), Interval(16.4126201905550, 18.0746278323979), Interval(27.9692376967296, 33.3622617660365), Interval(42.2236788516199, oo))\n",
      "\n",
      "Now calculating determinant size 15x15\n",
      "Calculating determinant time :  829.83\n",
      "Solving  inequalities time : 34.15\n",
      "Survived interval = Union(Interval(7.78646699691797, 8.00153249743087), Interval(16.4766258580007, 18.0485311611306), Interval(28.5283162356573, 32.6982297800086), Interval(42.2894340217526, oo))\n",
      "\n"
     ]
    }
   ],
   "source": [
    "# saving paths\n",
    "save_dir = os.path.abspath('yukawa_order1')\n",
    "if not os.path.exists(save_dir):\n",
    "    os.mkdir(save_dir)\n",
    "\n",
    "ykw1_config = {\n",
    "    'round' : 15, # maximum size of submatrix to compute the determinant\n",
    "    'initial_interval' : sp.Interval(0, sp.oo), # Expect the energy after transformation to be positive\n",
    "}\n",
    "\n",
    "ykw1_matrix = FirstOrderYukawaPotentialMatrix(N=ykw1_config['round'], angular_momentum=True)\n",
    "ykw1_matrix.k = 1\n",
    "ykw1_matrix.l = 1 # set l>=1, otherwise l=0 will be failed\n",
    "ykw1_matrix.a = 1\n",
    "\n",
    "k, l, a = ykw1_matrix.k, ykw1_matrix.l, ykw1_matrix.a\n",
    "if a == 0:\n",
    "    ykw1_config['npy_energy_intervals'] = os.path.join(save_dir, f\"energy_intervals_a0_k{sp.N(k):.2f}_l{l}.npy\")\n",
    "else:\n",
    "    ykw1_config['npy_energy_intervals'] = os.path.join(save_dir, f\"energy_intervals_a{sp.N(a):.2f}_k{sp.N(k):.2f}_l{l}.npy\")\n",
    "\n",
    "ykw1_matrix.evaluate()\n",
    "energy_intervals = sympy_solve_intervals(ykw1_matrix, ykw1_config, mode='Poly')"
   ]
  },
  {
   "cell_type": "markdown",
   "metadata": {},
   "source": [
    "## Theoretic energy eigenvalues to first order\n",
    "\n",
    "We expect for small $a$, the energy eigenvalues should be close to Hydrogen's energy eigenvalues.\n",
    "\n",
    "For Hydrogen atom, the energy eigenvalues are $E^l_n=-\\frac{\\hbar^2}{2m_ea_0^2(n+l)^2}$, with the Bohr radius $a_0=\\frac{4\\pi\\epsilon_0\\hbar^2}{m_ee^2}=\\frac{\\hbar^2}{m_ek}$. We now set $m_e=\\hbar=1$, the Bohr radius becomes $a_0=\\frac{1}{k}$, and $E^l_n(k)=-\\frac{k^2}{2(n+l)^2}$. Note that $n$ starts from $1$.\n",
    "\n",
    "**Warning** : Since we have transform $E^\\prime=-\\frac{1}{E-ak}$, the energy intervals we solved will be $E^\\prime=\\frac{2(n+l)^2}{k^2}$."
   ]
  },
  {
   "cell_type": "code",
   "execution_count": 4,
   "metadata": {},
   "outputs": [
    {
     "data": {
      "image/png": "[encoded data removed]",
      "text/plain": [
       "<Figure size 864x576 with 1 Axes>"
      ]
     },
     "metadata": {},
     "output_type": "display_data"
    }
   ],
   "source": [
    "ykw1_config['plot_step'] = 1 # how often to plot the result\n",
    "ykw1_config['x_inf'] = 0 # infimum for x-axis when plotting\n",
    "ykw1_config['x_sup'] = 100 # supremum for x-axis when plotting\n",
    "\n",
    "energy_eigenvalues = [(2*((n+l)**2))/(k**2) for n in range(1, ykw1_config['round']+1)]\n",
    "x_ticks = [r\"$E^l_{{{}}}$\".format(i) for i in range(1,len(energy_eigenvalues)+1)]\n",
    "\n",
    "np.save(ykw1_config['npy_energy_intervals'], energy_intervals, allow_pickle=True)\n",
    "\n",
    "sns.set_style('dark')\n",
    "sns.set(font_scale=1.5)\n",
    "fig, ax = plot_energy_interval(energy_intervals, energy_eigenvalues, x_ticks, ykw1_config)\n",
    "if a == 0:\n",
    "    ax.set_title(f\"Yukawa1 $a=0$ and $k$={sp.N(k):.2f} and $l$={l}\")\n",
    "else:\n",
    "    ax.set_title(f\"Yukawa1 $a={sp.N(a):.2f}$ and $k$={sp.N(k):.2f} and $l$={l}\")\n",
    "ax.set_xlabel(r\"$E^l_n = \\frac{2(n+l)^2}{k^2}$ with \" + r\"$l={{{}}}$ and $n>l$\".format(l))\n",
    "if a == 0:\n",
    "    plt.savefig(os.path.join(save_dir, f\"result_N{ykw1_config['round']}_a0_k{sp.N(k):.2f}_l{l}.png\"))\n",
    "else:\n",
    "    plt.savefig(os.path.join(save_dir, f\"result_N{ykw1_config['round']}_a{sp.N(a):.2f}_k{sp.N(k):.2f}_l{l}.png\"))"
   ]
  }
 ],
 "metadata": {
  "interpreter": {
   "hash": "f336cad6fe0400acb6be73673a858595ff5f79cefd0dee5173965bcb3aeeb558"
  },
  "kernelspec": {
   "display_name": "Python 3.8.9 64-bit ('3.8.9': pyenv)",
   "language": "python",
   "name": "python3"
  },
  "language_info": {
   "codemirror_mode": {
    "name": "ipython",
    "version": 3
   },
   "file_extension": ".py",
   "mimetype": "text/x-python",
   "name": "python",
   "nbconvert_exporter": "python",
   "pygments_lexer": "ipython3",
   "version": "3.8.9"
  },
  "orig_nbformat": 4
 },
 "nbformat": 4,
 "nbformat_minor": 2
}

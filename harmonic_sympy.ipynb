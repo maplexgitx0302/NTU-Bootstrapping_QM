{
 "cells": [
  {
   "cell_type": "markdown",
   "metadata": {},
   "source": [
    "# Bootstrapping with 1-D harmonic potential\n",
    "\n",
    "In this code, we demonstrate 1-dimensional harmonic potential with $\\hbar = 1$ and $m = 1$\n",
    "\n",
    "\\begin{equation*}\n",
    "    V(x) = kx^2\n",
    "\\end{equation*}"
   ]
  },
  {
   "cell_type": "code",
   "execution_count": 1,
   "metadata": {},
   "outputs": [],
   "source": [
    "import os, time\n",
    "import numpy as np\n",
    "import sympy as sp\n",
    "from bootstrap_sympy import sympy_solve_intervals, plot_energy_interval\n",
    "\n",
    "import matplotlib.pyplot as plt\n",
    "import seaborn as sns"
   ]
  },
  {
   "cell_type": "markdown",
   "metadata": {},
   "source": [
    "## Recursion relation for 1-d harmonic potential\n",
    "\n",
    "\\begin{equation*}\n",
    "    <X^{s}> \\ =\\  \\frac{(s-1)E}{ks}<X^{s-2}> + \\frac{(s-1)(s-2)(s-3)}{8ks}<X^{s-4}>\n",
    "\\end{equation*}"
   ]
  },
  {
   "cell_type": "code",
   "execution_count": 2,
   "metadata": {},
   "outputs": [],
   "source": [
    "class HarmonicPotentialMatrix:\n",
    "    def __init__(self, N):\n",
    "        '''\n",
    "            k    : constant of harmonic potential\n",
    "            E    : eigen-energy to be solved\n",
    "            Xs_list : list of X^s, the expectation value of position operator X to the s power\n",
    "        '''\n",
    "\n",
    "        self.k = sp.symbols('k')\n",
    "        self.E = sp.symbols('E')\n",
    "        \n",
    "        self.Xs_list = []\n",
    "        for i in range(2*(N-1)+1):\n",
    "            if i >= 4:\n",
    "                self.Xs_list.append(self.Xs_resursion(s=i, Xs_2=self.Xs_list[i-2], Xs_4=self.Xs_list[i-4]))\n",
    "            else:\n",
    "                self.Xs_list.append(self.Xs_resursion(s=i))\n",
    "\n",
    "    def Xs_resursion(self, s, Xs_2=None, Xs_4=None):\n",
    "        '''\n",
    "            find the <X^s> with recursion relation\n",
    "        '''\n",
    "        if s == 0:\n",
    "            return 1\n",
    "        elif s == 2:\n",
    "            return self.E / (2*self.k)\n",
    "        elif s%2 != 0:\n",
    "            return 0\n",
    "        elif Xs_2 != None and Xs_4 != None:\n",
    "            return (s-1)*self.E/(self.k*s)*(Xs_2) + (s-1)*(s-2)*(s-3)/(8*self.k*s)*(Xs_4)\n",
    "        else:\n",
    "            return (s-1)*self.E/(self.k*s)*self.Xs_resursion(s-2) + (s-1)*(s-2)*(s-3)/(8*self.k*s)*self.Xs_resursion(s-4)\n",
    "\n",
    "    def submatrix(self, L):\n",
    "        '''\n",
    "            return the L*L matrix for [i,j] element = <X^(i+j)>\n",
    "        '''\n",
    "        return sp.Matrix([[self.Xs_list[i+j] for j in range(L)] for i in range(L)])"
   ]
  },
  {
   "cell_type": "code",
   "execution_count": 3,
   "metadata": {},
   "outputs": [
    {
     "name": "stdout",
     "output_type": "stream",
     "text": [
      "Now calculating determinant size 1x1\n",
      "Time cost = 0.00\n",
      "Round interval = Interval(0, oo)\n",
      "\n",
      "Now calculating determinant size 2x2\n",
      "Time cost = 0.08\n",
      "Round interval = Interval(0, oo)\n",
      "\n",
      "Now calculating determinant size 3x3\n",
      "Time cost = 0.29\n",
      "Round interval = Interval(0, oo)\n",
      "\n",
      "Now calculating determinant size 4x4\n",
      "Time cost = 0.28\n",
      "Round interval = Interval(0.264017327130108, oo)\n",
      "\n",
      "Now calculating determinant size 5x5\n",
      "Time cost = 0.35\n",
      "Round interval = Interval(0.264017327130108, oo)\n",
      "\n",
      "Now calculating determinant size 6x6\n",
      "Time cost = 0.64\n",
      "Round interval = Interval(0.417458228325692, oo)\n",
      "\n",
      "Now calculating determinant size 7x7\n",
      "Time cost = 1.93\n",
      "Round interval = Union(Interval(0.417458228325692, 0.566507626022330), Interval(1.13185451266325, oo))\n",
      "\n",
      "Now calculating determinant size 8x8\n",
      "Time cost = 1.26\n",
      "Round interval = Union(Interval(0.480732040704975, 0.566507626022330), Interval(1.13185451266325, oo))\n",
      "\n",
      "Now calculating determinant size 9x9\n",
      "Time cost = 1.51\n",
      "Round interval = Union(Interval(0.480732040704975, 0.508960722153068), Interval(1.36770368495611, oo))\n",
      "\n",
      "Now calculating determinant size 10x10\n",
      "Time cost = 2.38\n",
      "Round interval = Union(Interval(0.496653865329087, 0.508960722153068), Interval(1.36770368495611, 1.77806173907514), Interval(1.96249913806362, oo))\n",
      "\n",
      "Now calculating determinant size 11x11\n",
      "Time cost = 4.78\n",
      "Round interval = Union(Interval(0.496653865329119, 0.501336803622336), Interval(1.45666126435236, 1.77806173907513), Interval(1.96249913806362, oo))\n",
      "\n",
      "Now calculating determinant size 12x12\n",
      "Time cost = 6.39\n",
      "Round interval = Union(Interval(0.499491801446948, 0.501336803622336), Interval(1.45666126435236, 1.53629650385663), Interval(2.32621478956057, oo))\n",
      "\n",
      "Now calculating determinant size 13x13\n",
      "Time cost = 10.51\n",
      "Round interval = Union(Interval(0.499491801436153, 0.500193530731706), Interval(1.48872623716228, 1.53629650385663), Interval(2.32621478956057, oo))\n",
      "\n",
      "Now calculating determinant size 14x14\n",
      "Time cost = 18.13\n",
      "Round interval = Union(Interval(0.499927457945277, 0.500193530794461), Interval(1.48872623716228, 1.50685641756858), Interval(2.42846287213839, oo))\n",
      "\n",
      "Now calculating determinant size 15x15\n",
      "Time cost = 33.43\n",
      "Round interval = Union(Interval(0.499927459154892, 0.500027010254752), Interval(1.49760176514391, 1.50685641756334), Interval(2.42846287213869, 2.56551491928218), Interval(3.28607044176960, oo))\n",
      "\n",
      "Union(Interval(0.496653865329119, 0.501336803622336), Interval(1.49760176514391, 1.50685641756334))\n"
     ]
    }
   ],
   "source": [
    "hp_config = {\n",
    "    'k' : 0.5,\n",
    "    'x_inf' : 0,\n",
    "    'x_sup' : 10,\n",
    "    'round' : 15,\n",
    "    'plot_step' : 3,\n",
    "    'threshold' : 1e-2,\n",
    "    'initial_interval' : sp.Interval(0, sp.oo),\n",
    "}\n",
    "\n",
    "hp_matrix = HarmonicPotentialMatrix(N=hp_config['round'])\n",
    "energy_intervals, confirmed_intervals = sympy_solve_intervals(hp_matrix, hp_config, det_indep=False)\n",
    "\n",
    "print(confirmed_intervals)"
   ]
  },
  {
   "cell_type": "code",
   "execution_count": 6,
   "metadata": {},
   "outputs": [
    {
     "data": {
      "image/png": "[encoded data removed]",
      "text/plain": [
       "<Figure size 432x288 with 1 Axes>"
      ]
     },
     "metadata": {},
     "output_type": "display_data"
    }
   ],
   "source": [
    "energy_eigenvalues = [0.5 * (2*hp_config['k'])**0.5]\n",
    "while energy_eigenvalues[-1] < hp_config['x_sup']:\n",
    "    energy_eigenvalues.append(energy_eigenvalues[-1] + (2*hp_config['k'])**0.5)\n",
    "\n",
    "sns.set_style('dark')\n",
    "fig, ax = plot_energy_interval(energy_intervals, energy_eigenvalues, hp_config)\n",
    "plt.tight_layout()\n",
    "plt.show()"
   ]
  },
  {
   "cell_type": "code",
   "execution_count": 7,
   "metadata": {},
   "outputs": [],
   "source": [
    "np.save(os.path.join(os.path.abspath(''), 'hp_energy_intervals.npy'), energy_intervals, allow_pickle=True)"
   ]
  }
 ],
 "metadata": {
  "interpreter": {
   "hash": "f336cad6fe0400acb6be73673a858595ff5f79cefd0dee5173965bcb3aeeb558"
  },
  "kernelspec": {
   "display_name": "Python 3.8.9 64-bit ('3.8.9': pyenv)",
   "language": "python",
   "name": "python3"
  },
  "language_info": {
   "codemirror_mode": {
    "name": "ipython",
    "version": 3
   },
   "file_extension": ".py",
   "mimetype": "text/x-python",
   "name": "python",
   "nbconvert_exporter": "python",
   "pygments_lexer": "ipython3",
   "version": "3.8.9"
  },
  "orig_nbformat": 4
 },
 "nbformat": 4,
 "nbformat_minor": 2
}

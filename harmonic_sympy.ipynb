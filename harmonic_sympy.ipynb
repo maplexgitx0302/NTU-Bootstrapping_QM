{
 "cells": [
  {
   "cell_type": "markdown",
   "metadata": {},
   "source": [
    "# Bootstrapping with 1-D harmonic potential\n",
    "\n",
    "In this code, we demonstrate 1-dimensional harmonic potential with $\\hbar = 1$ and $m = 1$. We begin with\n",
    "\n",
    "\\begin{align*}\n",
    "    H &= \\frac{P^2}{2m}+V(x)\\\\\n",
    "    V(x) &= kx^2\\\\\n",
    "    [X,P] &= i\n",
    "\\end{align*}\n",
    "\n",
    "Since for any operator $O$, we have $\\langle E|[H, O]|E\\rangle=0$, consider $O_1=X^{s}P$ and $O_2=X^{s-1}$\n",
    "\\begin{align*}\n",
    "    [H, O_1] = [H, X^{s}P] &= 0 = \n",
    "    -\\frac{1}{2}s(s-1)\\langle X^{s-2}P\\rangle \n",
    "    -is\\langle X^{s-1}P^2\\rangle+\n",
    "    i\\langle X^{s}V^\\prime(x)\\rangle\\\\\n",
    "    \n",
    "    [H, O_2] = [H, X^{s-1}] &= 0 =\n",
    "    -\\frac{1}{2}(s-1)(s-2)\\langle X^{s-3}\\rangle\n",
    "    -i(s-1)\\langle X^{s-2}P\\rangle\n",
    "\\end{align*}\n",
    "\n",
    "Conbine these two equations, we can get\n",
    "\\begin{equation*}\n",
    "    0 = \\frac{1}{4}s(s-1)(s-2)\\langle X^{s-3}\\rangle\n",
    "    +s\\langle X^{s-1}P^2\\rangle\n",
    "    -\\langle X^sV^\\prime (x)\\rangle\n",
    "\\end{equation*}\n",
    "\n",
    "Now consider $\\langle E|X^{s-1}H|E\\rangle$\n",
    "\\begin{align*}\n",
    "    \\langle E|X^{s-1}H|E\\rangle & = E\\langle X^{s-1}\\rangle \\\\\n",
    "    \\langle E|X^{s-1}H|E\\rangle & = \\frac{1}{2}\\langle X^{s-1}P^2\\rangle + \\langle X^{s-1}V(x)\\rangle \\\\\n",
    "\\end{align*}\n",
    "\n",
    "So we have $\\langle X^{s-1}P^2\\rangle = 2E\\langle X^{s-1}\\rangle - 2\\langle X^{s-1}V(x)\\rangle$, substitute into the equation above and finally we get\n",
    "\\begin{equation*}\n",
    "    0 = 2sE\\langle X^{s-1}\\rangle + \\frac{1}{4}s(s-1)(s-2)\\langle X^{s-3}\\rangle \n",
    "    - \\langle X^s V^\\prime (x)\\rangle - 2s\\langle X^{s-1}V(x)\\rangle\n",
    "\\end{equation*}"
   ]
  },
  {
   "cell_type": "code",
   "execution_count": 1,
   "metadata": {},
   "outputs": [],
   "source": [
    "import os, time\n",
    "import numpy as np\n",
    "import sympy as sp\n",
    "from bootstrap_sympy import sympy_solve_intervals, plot_energy_interval\n",
    "\n",
    "import matplotlib.pyplot as plt\n",
    "import seaborn as sns"
   ]
  },
  {
   "cell_type": "markdown",
   "metadata": {},
   "source": [
    "## Recursion relation for 1-d harmonic potential\n",
    "\n",
    "Plug in $V(x)=kx^2$ into the recursion relation, we get\n",
    "\n",
    "\\begin{equation*}\n",
    "    \\langle X^{s}\\rangle \\ =\\  \\frac{(s-1)E}{ks}\\langle X^{s-2}\\rangle + \\frac{(s-1)(s-2)(s-3)}{8ks}\\langle X^{s-4}\\rangle\n",
    "\\end{equation*}\n",
    "\n",
    "With $\\langle X^0\\rangle=1$ by normalization, and $\\langle X^1\\rangle=0$ by symmetry. Also, take $s=2$ we get $\\langle X^2\\rangle=\\frac{E}{2k}$"
   ]
  },
  {
   "cell_type": "code",
   "execution_count": 2,
   "metadata": {},
   "outputs": [],
   "source": [
    "class HarmonicPotentialMatrix:\n",
    "    def __init__(self, N):\n",
    "        self.N = N # maximum size of submatrix\n",
    "        self.k = sp.symbols('k') # constant of harmonic potential\n",
    "        self.E = sp.symbols('E') # eigen-energy to be solved\n",
    "    \n",
    "    def evaluate(self):\n",
    "        self.Xs_list = [] # list of X^s, the expectation value of position operator X to the s power\n",
    "        for i in range(2*(self.N-1)+1):\n",
    "            if i >= 4:\n",
    "                self.Xs_list.append(self.Xs_recursion(s=i, Xs_2=self.Xs_list[i-2], Xs_4=self.Xs_list[i-4]))\n",
    "            else:\n",
    "                self.Xs_list.append(self.Xs_recursion(s=i))\n",
    "\n",
    "    def Xs_recursion(self, s, Xs_2=None, Xs_4=None):\n",
    "        # find the <X^s> with recursion relation\n",
    "        if s == 0:\n",
    "            return 1\n",
    "        elif s == 2:\n",
    "            return self.E * sp.Rational(1,2) / self.k\n",
    "        elif s%2 != 0:\n",
    "            return 0\n",
    "        else:\n",
    "            if Xs_2 == None or Xs_4 == None:\n",
    "                Xs_2 = self.Xs_recursion(s-2)\n",
    "                Xs_4 = self.Xs_recursion(s-4)\n",
    "            result  = self.E * sp.Rational((s-1),s) / self.k * Xs_2\n",
    "            result += sp.Rational((s-1)*(s-2)*(s-3),8*s) / self.k * Xs_4\n",
    "            return result\n",
    "\n",
    "    def submatrix(self, L):\n",
    "        # L*L matrix's [i,j] element = <X^(i+j)>\n",
    "        return sp.Matrix([[self.Xs_list[i+j] for j in range(L)] for i in range(L)])"
   ]
  },
  {
   "cell_type": "code",
   "execution_count": 3,
   "metadata": {},
   "outputs": [
    {
     "name": "stdout",
     "output_type": "stream",
     "text": [
      "Now calculating determinant size 1x1\n",
      "Time cost = 0.00\n",
      "Round interval = Interval(0, oo)\n",
      "\n",
      "Now calculating determinant size 2x2\n",
      "Time cost = 0.00\n",
      "Round interval = Interval(0, oo)\n",
      "\n",
      "Now calculating determinant size 3x3\n",
      "Time cost = 0.05\n",
      "Round interval = Interval(0, oo)\n",
      "\n",
      "Now calculating determinant size 4x4\n",
      "Time cost = 0.08\n",
      "Round interval = Interval(0.264017327130108, oo)\n",
      "\n",
      "Now calculating determinant size 5x5\n",
      "Time cost = 0.05\n",
      "Round interval = Interval(0.264017327130108, oo)\n",
      "\n",
      "Now calculating determinant size 6x6\n",
      "Time cost = 0.19\n",
      "Round interval = Interval(0.417458228325692, oo)\n",
      "\n",
      "Now calculating determinant size 7x7\n",
      "Time cost = 0.24\n",
      "Round interval = Union(Interval(0.417458228325692, 0.566507626022330), Interval(1.13185451266325, oo))\n",
      "\n",
      "Now calculating determinant size 8x8\n",
      "Time cost = 0.43\n",
      "Round interval = Union(Interval(0.480732040704975, 0.566507626022330), Interval(1.13185451266325, oo))\n",
      "\n",
      "Now calculating determinant size 9x9\n",
      "Time cost = 0.91\n",
      "Round interval = Union(Interval(0.480732040704975, 0.508960722153068), Interval(1.36770368495611, oo))\n",
      "\n",
      "Now calculating determinant size 10x10\n",
      "Time cost = 1.52\n",
      "Round interval = Union(Interval(0.496653865329087, 0.508960722153068), Interval(1.36770368495611, 1.77806173907514), Interval(1.96249913806362, oo))\n",
      "\n",
      "Now calculating determinant size 11x11\n",
      "Time cost = 2.22\n",
      "Round interval = Union(Interval(0.496653865329119, 0.501336803622336), Interval(1.45666126435236, 1.77806173907513), Interval(1.96249913806362, oo))\n",
      "\n",
      "Now calculating determinant size 12x12\n",
      "Time cost = 3.30\n",
      "Round interval = Union(Interval(0.499491801446948, 0.501336803622336), Interval(1.45666126435236, 1.53629650385663), Interval(2.32621478956057, oo))\n",
      "\n",
      "Now calculating determinant size 13x13\n",
      "Time cost = 5.87\n",
      "Round interval = Union(Interval(0.499491801436153, 0.500193530731706), Interval(1.48872623716228, 1.53629650385663), Interval(2.32621478956057, oo))\n",
      "\n",
      "Now calculating determinant size 14x14\n",
      "Time cost = 9.86\n",
      "Round interval = Union(Interval(0.499927457945277, 0.500193530794461), Interval(1.48872623716228, 1.50685641756858), Interval(2.42846287213839, oo))\n",
      "\n",
      "Now calculating determinant size 15x15\n",
      "Time cost = 18.48\n",
      "Round interval = Union(Interval(0.499927459154892, 0.500027010254752), Interval(1.49760176514391, 1.50685641756334), Interval(2.42846287213869, 2.56551491928218), Interval(3.28607044176960, oo))\n",
      "\n",
      "Now calculating determinant size 16x16\n",
      "Time cost = 34.79\n",
      "Round interval = Union(Interval(0.496653865329119, 0.498598084688244), Interval(0.499990507526398, 0.500026537630471), Interval(1.49760176529247, 1.50125692972110), Interval(2.47442039622688, 2.56551491928218), Interval(3.28607044176960, oo))\n",
      "\n",
      "Now calculating determinant size 17x17\n",
      "Time cost = 31.76\n",
      "Round interval = Union(Interval(0.496653865329119, 0.498597889205737), Interval(0.500572311572176, 0.501336803622336), Interval(1.49955003307203, 1.50125692869628), Interval(2.47442039638056, 2.51382254777365), Interval(3.40081318964995, oo))\n",
      "\n",
      "Now calculating determinant size 18x18\n",
      "Time cost = 42.22\n",
      "Round interval = Union(Interval(0.496653865329119, 0.500190020965737), Interval(0.500546964901942, 0.501336803622336), Interval(1.49955026125903, 1.50021788252938), Interval(2.49281838249151, 2.51382254689744), Interval(3.40081318971478, 3.60074401039018), Interval(4.24326904153092, oo))\n",
      "\n",
      "Now calculating determinant size 19x19\n",
      "Time cost = 58.47\n",
      "Round interval = Union(Interval(0.496653865329119, 0.501336803622336), Interval(1.49990952856928, 1.50023019273960), Interval(2.49281838249151, 2.50292096330808), Interval(3.45958277481705, 3.60074401039018), Interval(4.24326904153092, oo))\n",
      "\n",
      "Now calculating determinant size 20x20\n",
      "Time cost = 80.08\n",
      "Round interval = Union(Interval(0.497396845633081, 0.501336803622336), Interval(1.50464870289906, 1.50685641756334), Interval(2.49835427935431, 2.50292096330808), Interval(3.45958277888602, 3.52493433261450), Interval(4.37552405757355, oo))\n",
      "\n",
      "Now calculating determinant size 21x21\n",
      "Time cost = 151.24\n",
      "Round interval = Union(Interval(1.49760176514391, 1.49868380284978), Interval(1.49901832052464, 1.50066247160777), Interval(1.50461262032132, 1.50685641756334), Interval(2.49835427935431, 2.50063810953900), Interval(3.48758825801297, 3.52493433261450), Interval(4.37552405815687, 4.64778477194864), Interval(5.19571459515829, oo))\n",
      "\n"
     ]
    }
   ],
   "source": [
    "hp_config = {\n",
    "    'x_inf' : 0,\n",
    "    'x_sup' : 10,\n",
    "    'round' : 21,\n",
    "    'plot_step' : 3,\n",
    "    'threshold' : 1e-2,\n",
    "    'initial_interval' : sp.Interval(0, sp.oo),\n",
    "}\n",
    "\n",
    "hp_matrix = HarmonicPotentialMatrix(N=hp_config['round'])\n",
    "hp_matrix.k = sp.Rational(1,2)\n",
    "hp_matrix.evaluate()\n",
    "\n",
    "energy_intervals, confirmed_intervals = sympy_solve_intervals(hp_matrix, hp_config, det_indep=False, confirm=True)"
   ]
  },
  {
   "cell_type": "code",
   "execution_count": 4,
   "metadata": {},
   "outputs": [
    {
     "name": "stdout",
     "output_type": "stream",
     "text": [
      "Confirmed intervals = Union(Interval(0.496653865329119, 0.501336803622336), Interval(1.49760176514391, 1.50685641756334), Interval(2.49835427935431, 2.50292096330808))\n"
     ]
    }
   ],
   "source": [
    "print(f\"Confirmed intervals = {sp.N(confirmed_intervals)}\")"
   ]
  },
  {
   "cell_type": "code",
   "execution_count": 5,
   "metadata": {},
   "outputs": [],
   "source": [
    "k = hp_matrix.k\n",
    "energy_eigenvalues = [0.5 * (2*k)**0.5]\n",
    "while energy_eigenvalues[-1] < hp_config['x_sup']:\n",
    "    energy_eigenvalues.append(energy_eigenvalues[-1] + (2*k)**0.5)"
   ]
  },
  {
   "cell_type": "code",
   "execution_count": 6,
   "metadata": {},
   "outputs": [
    {
     "data": {
      "image/png": "[encoded data removed]",
      "text/plain": [
       "<Figure size 432x288 with 1 Axes>"
      ]
     },
     "metadata": {},
     "output_type": "display_data"
    }
   ],
   "source": [
    "if not os.path.exists(os.path.abspath('harmonic')):\n",
    "    os.mkdir(os.path.abspath('harmonic'))\n",
    "\n",
    "np.save(os.path.join(os.path.abspath('harmonic'), 'energy_intervals.npy'), energy_intervals, allow_pickle=True)\n",
    "np.save(os.path.join(os.path.abspath('harmonic'), 'confirmed_intervals.npy'), confirmed_intervals, allow_pickle=True)\n",
    "\n",
    "sns.set_style('dark')\n",
    "fig, ax = plot_energy_interval(energy_intervals, energy_eigenvalues, hp_config)\n",
    "plt.savefig(os.path.join(os.path.abspath('harmonic'), 'result.png'))"
   ]
  }
 ],
 "metadata": {
  "interpreter": {
   "hash": "f336cad6fe0400acb6be73673a858595ff5f79cefd0dee5173965bcb3aeeb558"
  },
  "kernelspec": {
   "display_name": "Python 3.8.9 64-bit ('3.8.9': pyenv)",
   "language": "python",
   "name": "python3"
  },
  "language_info": {
   "codemirror_mode": {
    "name": "ipython",
    "version": 3
   },
   "file_extension": ".py",
   "mimetype": "text/x-python",
   "name": "python",
   "nbconvert_exporter": "python",
   "pygments_lexer": "ipython3",
   "version": "3.8.9"
  },
  "orig_nbformat": 4
 },
 "nbformat": 4,
 "nbformat_minor": 2
}

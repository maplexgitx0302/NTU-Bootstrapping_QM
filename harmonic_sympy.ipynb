{
 "cells": [
  {
   "cell_type": "markdown",
   "metadata": {},
   "source": [
    "# Bootstrapping with 1-D harmonic potential\n",
    "\n",
    "In this code, we demonstrate 1-dimensional harmonic potential with $\\hbar = 1$ and $m = 1$. We begin with\n",
    "\n",
    "\\begin{align*}\n",
    "    H &= \\frac{P^2}{2m}+V(x)\\\\\n",
    "    V(x) &= kx^2\\\\\n",
    "    [X,P] &= i\n",
    "\\end{align*}\n",
    "\n",
    "Since for any operator $O$, we have $\\langle E|[H, O]|E\\rangle=0$, consider $O_1=X^{s}P$ and $O_2=X^{s-1}$\n",
    "\\begin{align*}\n",
    "    [H, O_1] = [H, X^{s}P] &= 0 = \n",
    "    -\\frac{1}{2}s(s-1)\\langle X^{s-2}P\\rangle \n",
    "    -is\\langle X^{s-1}P^2\\rangle+\n",
    "    i\\langle X^{s}V^\\prime(x)\\rangle\\\\\n",
    "    \n",
    "    [H, O_2] = [H, X^{s-1}] &= 0 =\n",
    "    -\\frac{1}{2}(s-1)(s-2)\\langle X^{s-3}\\rangle\n",
    "    -i(s-1)\\langle X^{s-2}P\\rangle\n",
    "\\end{align*}\n",
    "\n",
    "Conbine these two equations, we can get\n",
    "\\begin{equation*}\n",
    "    0 = \\frac{1}{4}s(s-1)(s-2)\\langle X^{s-3}\\rangle\n",
    "    +s\\langle X^{s-1}P^2\\rangle\n",
    "    -\\langle X^sV^\\prime (x)\\rangle\n",
    "\\end{equation*}\n",
    "\n",
    "Now consider $\\langle E|X^{s-1}H|E\\rangle$\n",
    "\\begin{align*}\n",
    "    \\langle E|X^{s-1}H|E\\rangle & = E\\langle X^{s-1}\\rangle \\\\\n",
    "    \\langle E|X^{s-1}H|E\\rangle & = \\frac{1}{2}\\langle X^{s-1}P^2\\rangle + \\langle X^{s-1}V(x)\\rangle \\\\\n",
    "\\end{align*}\n",
    "\n",
    "So we have $\\langle X^{s-1}P^2\\rangle = 2E\\langle X^{s-1}\\rangle - 2\\langle X^{s-1}V(x)\\rangle$, substitute into the equation above and finally we get\n",
    "\\begin{equation*}\n",
    "    0 = 2sE\\langle X^{s-1}\\rangle + \\frac{1}{4}s(s-1)(s-2)\\langle X^{s-3}\\rangle \n",
    "    - \\langle X^s V^\\prime (x)\\rangle - 2s\\langle X^{s-1}V(x)\\rangle\n",
    "\\end{equation*}"
   ]
  },
  {
   "cell_type": "code",
   "execution_count": 1,
   "metadata": {},
   "outputs": [],
   "source": [
    "import os, time\n",
    "import numpy as np\n",
    "import sympy as sp\n",
    "from bootstrap_sympy import sympy_solve_intervals, plot_energy_interval\n",
    "\n",
    "import matplotlib.pyplot as plt\n",
    "import seaborn as sns"
   ]
  },
  {
   "cell_type": "markdown",
   "metadata": {},
   "source": [
    "## Recursion relation for 1-d harmonic potential\n",
    "\n",
    "Plug in $V(x)=kx^2$ into the recursion relation, we get\n",
    "\n",
    "\\begin{equation*}\n",
    "    \\langle X^{s}\\rangle \\ =\\  \\frac{(s-1)E}{ks}\\langle X^{s-2}\\rangle + \\frac{(s-1)(s-2)(s-3)}{8ks}\\langle X^{s-4}\\rangle\n",
    "\\end{equation*}\n",
    "\n",
    "With $\\langle X^0\\rangle=1$ by normalization, and $\\langle X^1\\rangle=0$ by symmetry. Also, take $s=2$ we get $\\langle X^2\\rangle=\\frac{E}{2k}$"
   ]
  },
  {
   "cell_type": "code",
   "execution_count": 2,
   "metadata": {},
   "outputs": [],
   "source": [
    "class HarmonicPotentialMatrix:\n",
    "    def __init__(self, N):\n",
    "        self.N = N # maximum size of submatrix\n",
    "        self.k = sp.symbols('k') # constant of harmonic potential\n",
    "        self.E = sp.symbols('E') # eigen-energy to be solved\n",
    "    \n",
    "    def evaluate(self):\n",
    "        '''\n",
    "            - If assign the value of other paramters (i.e., k) first, it will give the matrix element list with only E\n",
    "            - Otherwise it will represented ohter parameters with symbols\n",
    "        '''\n",
    "        self.Xs_list = [] # list of X^s, the expectation value of position operator X to the s power\n",
    "        for i in range(2*(self.N-1)+1):\n",
    "            if i >= 4:\n",
    "                self.Xs_list.append(self.Xs_recursion(s=i, Xs_2=self.Xs_list[i-2], Xs_4=self.Xs_list[i-4]))\n",
    "            else:\n",
    "                self.Xs_list.append(self.Xs_recursion(s=i))\n",
    "\n",
    "    def Xs_recursion(self, s, Xs_2=None, Xs_4=None):\n",
    "        '''\n",
    "            Find the <X^s> with recursion relation\n",
    "        '''\n",
    "        if s == 0:\n",
    "            return 1\n",
    "        elif s == 2:\n",
    "            return self.E * sp.Rational(1,2) / self.k\n",
    "        elif s%2 != 0:\n",
    "            return 0\n",
    "        else:\n",
    "            if Xs_2 == None or Xs_4 == None:\n",
    "                Xs_2 = self.Xs_recursion(s-2)\n",
    "                Xs_4 = self.Xs_recursion(s-4)\n",
    "            result  = self.E * sp.Rational((s-1),s) / self.k * Xs_2\n",
    "            result += sp.Rational((s-1)*(s-2)*(s-3),8*s) / self.k * Xs_4\n",
    "            return sp.simplify(result)\n",
    "\n",
    "    def submatrix(self, K):\n",
    "        '''\n",
    "            K by K matrix's [i,j] element = <X^(i+j)>\n",
    "        '''\n",
    "        return sp.Matrix([[self.Xs_list[i+j] for j in range(K)] for i in range(K)])"
   ]
  },
  {
   "cell_type": "markdown",
   "metadata": {},
   "source": [
    "## Set hyperparameters\n",
    "\n",
    "We set hyperparameters in the `config` dictionary. Here is some following instructions of the function `matrix.evaluate()`:\n",
    "- If you want to see the expression of matrix elements and determinants with other explicit parameters (i.e., $k$), please evaluate the matrix before assigning numerical values, or just simply remove lines `matrix.k = ...`  , .etc.\n",
    "- On the other hand, to accelerate the computation, please assign the numerical values (except $E$) before `matrix.evaluate()`"
   ]
  },
  {
   "cell_type": "code",
   "execution_count": 3,
   "metadata": {},
   "outputs": [
    {
     "name": "stdout",
     "output_type": "stream",
     "text": [
      "Checkpoint exists, checkpoint max K=12\n",
      "\n",
      "Now calculating determinant size 13x13\n",
      "Time cost = 6.85\n",
      "Survived interval = Union(Interval(0.499491801447211, 0.500193530720392), Interval(1.48872623716233, 1.53629650385663), Interval(2.32621478956057, oo))\n",
      "\n",
      "Now calculating determinant size 14x14\n",
      "Time cost = 13.90\n",
      "Survived interval = Union(Interval(0.499927458020613, 0.500193530720392), Interval(1.48872623716233, 1.50685641756782), Interval(2.42846287213835, oo))\n",
      "\n",
      "Now calculating determinant size 15x15\n",
      "Time cost = 17.95\n",
      "Survived interval = Union(Interval(0.499927458020613, 0.500027011413470), Interval(1.49760176513917, 1.50685641756782), Interval(2.42846287213835, 2.56551491928250), Interval(3.28607044176954, oo))\n",
      "\n",
      "Now calculating determinant size 16x16\n",
      "Time cost = 24.17\n",
      "Survived interval = Union(Interval(0.499990026141109, 0.500027011413470), Interval(1.49760176513917, 1.50125692987469), Interval(2.47442039622629, 2.56551491928250), Interval(3.28607044176954, oo))\n",
      "\n"
     ]
    }
   ],
   "source": [
    "# saving paths\n",
    "save_dir = os.path.abspath('harmonic')\n",
    "if not os.path.exists(save_dir):\n",
    "    os.mkdir(save_dir)\n",
    "\n",
    "hp_config = {\n",
    "    'round' : 16, # maximum size of submatrix to compute the determinant\n",
    "    'threshold' : 1e-2, # threshold to keep small intervals\n",
    "    'initial_interval' : sp.Interval(0, sp.oo), # expected region for energy\n",
    "}\n",
    "\n",
    "hp_matrix = HarmonicPotentialMatrix(N=hp_config['round'])\n",
    "hp_matrix.k = sp.Rational(1,2)\n",
    "\n",
    "k = hp_matrix.k\n",
    "hp_config['npy_energy_intervals'] = os.path.join(save_dir, f\"energy_intervals_k{sp.N(k):.2f}.npy\")\n",
    "hp_config['npy_confirmed_intervals'] = os.path.join(save_dir, f\"confirmed_intervals_k{sp.N(k):.2f}.npy\")\n",
    "\n",
    "hp_matrix.evaluate()\n",
    "energy_intervals, confirmed_intervals = sympy_solve_intervals(hp_matrix, hp_config, mode='Poly', keep=False)"
   ]
  },
  {
   "cell_type": "markdown",
   "metadata": {},
   "source": [
    "## Theoretic energy eigenvalues\n",
    "\n",
    "The hamiltonian is $H=\\frac{P^2}{2}+kx^2$. Recall for 1-D simple harmonic potential, the hamiltonian is $H_{hp}=\\frac{P^2}{2m}+\\frac{1}{2}m\\omega^2x^2$, with energy eigenvalues $E^\\omega_n=\\hbar\\omega(n+\\frac{1}{2})$. So the energy eigenvalues for $H$ is $E^k_n=\\hbar\\sqrt{2k}(n+\\frac{1}{2})$"
   ]
  },
  {
   "cell_type": "code",
   "execution_count": 4,
   "metadata": {},
   "outputs": [
    {
     "name": "stdout",
     "output_type": "stream",
     "text": [
      "Confirmed intervals = Union(Interval(0.496653865329086, 0.501336803622369), Interval(1.49760176513917, 1.50685641756782))\n"
     ]
    },
    {
     "data": {
      "image/png": "[encoded data removed]",
      "text/plain": [
       "<Figure size 864x576 with 1 Axes>"
      ]
     },
     "metadata": {},
     "output_type": "display_data"
    }
   ],
   "source": [
    "if confirmed_intervals != None:\n",
    "    print(f\"Confirmed intervals = {sp.N(confirmed_intervals)}\")\n",
    "\n",
    "hp_config['plot_step'] = 3 # how often to plot the result\n",
    "hp_config['x_inf'] = 0 # infimum for x-axis when plotting\n",
    "hp_config['x_sup'] = 10 # supremum for x-axis when plotting\n",
    "\n",
    "\n",
    "energy_eigenvalues = [(2*k)**0.5 * (n+0.5) for n in range(hp_config['round'])]\n",
    "x_ticks = [f\"$E_{i}$\" for i in range(len(energy_eigenvalues))]\n",
    "\n",
    "np.save(hp_config['npy_energy_intervals'], energy_intervals, allow_pickle=True)\n",
    "np.save(hp_config['npy_confirmed_intervals'], confirmed_intervals, allow_pickle=True)\n",
    "\n",
    "sns.set_style('dark')\n",
    "sns.set(font_scale=2)\n",
    "fig, ax = plot_energy_interval(energy_intervals, energy_eigenvalues, x_ticks, hp_config)\n",
    "ax.set_title(f\"1-D Harmonic Potential $k$={sp.N(k):.2f}\")\n",
    "ax.set_xlabel(r\"$E_n(k) = \\sqrt{2k}(n+\\frac{1}{2})$\")\n",
    "plt.savefig(os.path.join(save_dir, f\"result_N{hp_config['round']}_k{sp.N(k):.2f}.png\"))"
   ]
  }
 ],
 "metadata": {
  "interpreter": {
   "hash": "f336cad6fe0400acb6be73673a858595ff5f79cefd0dee5173965bcb3aeeb558"
  },
  "kernelspec": {
   "display_name": "Python 3.8.9 64-bit ('3.8.9': pyenv)",
   "language": "python",
   "name": "python3"
  },
  "language_info": {
   "codemirror_mode": {
    "name": "ipython",
    "version": 3
   },
   "file_extension": ".py",
   "mimetype": "text/x-python",
   "name": "python",
   "nbconvert_exporter": "python",
   "pygments_lexer": "ipython3",
   "version": "3.8.9"
  },
  "orig_nbformat": 4
 },
 "nbformat": 4,
 "nbformat_minor": 2
}

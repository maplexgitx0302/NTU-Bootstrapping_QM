{
 "cells": [
  {
   "cell_type": "markdown",
   "metadata": {},
   "source": [
    "# Bootstrapping with Coulomb Potential\n",
    "\n",
    "In this code, we demonstrate radial Coulomb potential with $\\hbar = 1$ and $m = 1$. We begin with\n",
    "\n",
    "\\begin{align*}\n",
    "    H &= \\frac{P_r^2}{2m} + \\frac{l(l+1)}{2r^2} + V(r)\\\\\n",
    "    V(r) &= -\\frac{e^2}{4\\pi\\epsilon_0r} = -\\frac{k}{r}\\\\\n",
    "    [r,P_r] &= i\n",
    "\\end{align*}\n",
    "\n",
    "We see that the Hamiltonian is similar to 1-D Harmonic potential, with additional angular term $\\frac{l(l+1)}{2r^2}$. So we just need to consider the additional commutation relation of the additional angular term. (Denote $P_r=P$ in the following)\n",
    "\n",
    "\\begin{align*}\n",
    "    [H, r^{s}P] &= 0 = \n",
    "    -\\frac{1}{2}s(s-1)\\langle r^{s-2}P\\rangle \n",
    "    -is\\langle r^{s-1}P^2\\rangle\n",
    "    +i\\langle r^{s}V^\\prime(r)\\rangle\n",
    "    -il(l+1)\\langle r^{s-3}\\rangle\\\\\n",
    "    \n",
    "    [H, r^{s-1}] &= 0 =\n",
    "    -\\frac{1}{2}(s-1)(s-2)\\langle r^{s-3}\\rangle\n",
    "    -i(s-1)\\langle r^{s-2}P\\rangle\n",
    "\\end{align*}\n",
    "\n",
    "With the same trick and the same algebraic calcukation, we get the final recursion relation\n",
    "\\begin{equation*}\n",
    "    0 = 2sE\\langle r^{s-1}\\rangle + \\frac{1}{4}s(s-1)(s-2)\\langle r^{s-3}\\rangle \n",
    "    - \\langle r^s V^\\prime (r)\\rangle - 2s\\langle r^{s-1}V(r)\\rangle -(s-1)l(l+1)\\langle r^{s-3}\\rangle\n",
    "\\end{equation*}"
   ]
  },
  {
   "cell_type": "code",
   "execution_count": 1,
   "metadata": {},
   "outputs": [],
   "source": [
    "import os, time\n",
    "import numpy as np\n",
    "import sympy as sp\n",
    "from bootstrap_sympy import sympy_solve_intervals, plot_energy_interval\n",
    "\n",
    "import matplotlib.pyplot as plt\n",
    "import seaborn as sns"
   ]
  },
  {
   "cell_type": "markdown",
   "metadata": {},
   "source": [
    "## Recursion relation for 3-d Coulomb potential\n",
    "\n",
    "Plug in $V(r)=-\\frac{k}{r}$ into the recursion relation, we get\n",
    "\n",
    "\\begin{equation*}\n",
    "    E\\langle r^s\\rangle = -\\frac{2s+1}{2(s+1)}k\\langle r^{s-1}\\rangle\n",
    "    + \\frac{s}{2(s+1)}l(l+1)\\langle r^{s-2}\\rangle - \\frac{s(s-1)}{8}\\langle r^{s-2}\\rangle\n",
    "\\end{equation*}\n",
    "\n",
    "Since the energy eigenvalue is expected to be negative, and in order to transform it into a polynomial recursion in $E$, we set $E^\\prime = -\\frac{1}{E}$, and just denote $E^\\prime$ as $E$ in the code below. With $\\langle r^0\\rangle=1$ by normalization, and $\\langle r^1\\rangle_{nlm}=\\frac{a_0}{2}[3n^2-l(l+1)]$, where $a_0=\\frac{4\\pi\\epsilon_0\\hbar^2}{me^2}=\\frac{\\hbar^2}{mk}$."
   ]
  },
  {
   "cell_type": "code",
   "execution_count": 2,
   "metadata": {},
   "outputs": [],
   "source": [
    "class ColumbPotentialMatrix:\n",
    "    def __init__(self, N, angular_momentum=True):\n",
    "        self.k = sp.symbols('k') # constant of harmonic potential\n",
    "        self.n = sp.symbols('n') # principal quantum number\n",
    "        self.E = sp.symbols('E') # eigen-energy to be solved (Note the true energy is 1/E)\n",
    "        self.l = sp.symbols('l') # angular momentum quantum number\n",
    "        self.angular_momentum = angular_momentum\n",
    "        \n",
    "        self.rs_list = [] # list of r^s, the expectation value of position operator r to the s power\n",
    "        for i in range(2*(N-1)+1):\n",
    "            if i >= 2:\n",
    "                self.rs_list.append(self.rs_resursion(s=i, rs_1=self.rs_list[i-1], rs_2=self.rs_list[i-2]))\n",
    "            else:\n",
    "                self.rs_list.append(self.rs_resursion(s=i))\n",
    "\n",
    "    def rs_resursion(self, s, rs_1=None, rs_2=None):\n",
    "        # find the <r^s> with recursion relation\n",
    "        if s == 0:\n",
    "            return 1\n",
    "        elif s == 1:\n",
    "            if self.angular_momentum:\n",
    "                return (1/self.k)/2 * (3*self.n**2-self.l*(self.l+1))\n",
    "            else:\n",
    "                return (1/self.k)/2 * (3*self.n**2)\n",
    "        else:\n",
    "            if rs_1 == None or rs_2 == None:\n",
    "                rs_1 = self.rs_resursion(s-1)\n",
    "                rs_2 = self.rs_resursion(s-2)\n",
    "            # factor out 1/8 to avoid overflow (sp.det will get error for small coefficient calculation)\n",
    "            if self.angular_momentum:\n",
    "                return (-self.E) * ( -4*(2*s+1)/(s+1)*self.k*rs_1 + 4*(s)/(s+1)*self.l*(self.l+1)*rs_2 - s*(s-1)*rs_2 ) / 8\n",
    "            else:\n",
    "                return (-self.E) * ( -4*(2*s+1)/(s+1)*self.k*rs_1 - s*(s-1)*rs_2 ) / 8\n",
    "\n",
    "    def submatrix(self, L):\n",
    "        # L*L matrix's [i,j] element = <r^(i+j)>\n",
    "        return sp.Matrix([[self.rs_list[i+j] for j in range(L)] for i in range(L)])"
   ]
  },
  {
   "cell_type": "code",
   "execution_count": 5,
   "metadata": {},
   "outputs": [
    {
     "name": "stdout",
     "output_type": "stream",
     "text": [
      "1\n",
      "3*n**2/(2*k)\n",
      "E*(1.25*n**2 + 0.25)\n",
      "E*(0.875*E*k**2*(10.0*n**2 + 2) + 9*n**2)/(8*k)\n",
      "E**2*(1.575*E*k**2*(10.0*n**2 + 2) + 46.2*n**2 + 6)/16\n",
      "E**2*(0.90234375*E**2*k**4*n**2 + 0.18046875*E**2*k**4 + 5.38125*E*k**2*n**2 + 0.890625*E*k**2 + 2.8125*n**2)/k\n",
      "E**3*(0.837890625*E**2*k**4*n**2 + 0.167578125*E**2*k**4 + 8.68828125*E*k**2*n**2 + 1.56529017857143*E*k**2 + 13.4397321428571*n**2 + 1.40625)\n",
      "E**3*(0.7855224609375*E**3*k**6*n**2 + 0.1571044921875*E**3*k**6 + 12.882568359375*E**2*k**4*n**2 + 2.41492047991071*E**2*k**4 + 40.8513113839286*E*k**2*n**2 + 5.994140625*E*k**2 + 14.765625*n**2)/k\n",
      "E**4*(0.74188232421875*E**3*k**6*n**2 + 0.14837646484375*E**3*k**6 + 18.0321044921875*E**2*k**4*n**2 + 3.45380510602679*E**2*k**4 + 99.3997628348214*E*k**2*n**2 + 16.6181640625*E*k**2 + 108.0234375*n**2 + 9.84375)\n"
     ]
    }
   ],
   "source": [
    "cp_config = {\n",
    "    'x_inf' : 0,\n",
    "    'x_sup' : 10,\n",
    "    'round' : 5,\n",
    "    'plot_step' : 3,\n",
    "    'threshold' : 1e-2,\n",
    "    'initial_interval' : sp.Interval(-sp.oo, sp.oo),\n",
    "}\n",
    "\n",
    "cp_matrix = ColumbPotentialMatrix(N=cp_config['round'], angular_momentum=False)\n",
    "cp_hyperparameters = {\n",
    "    cp_matrix.k : 1,\n",
    "    cp_matrix.n : 1,\n",
    "    cp_matrix.l : 0,\n",
    "}\n",
    "\n",
    "for i in range(len(cp_matrix.rs_list)):\n",
    "    print(sp.simplify(cp_matrix.rs_list[i]))\n",
    "#     cp_matrix.rs_list[i] = sp.N(cp_matrix.rs_list[i], subs=cp_hyperparameters)\n",
    "# energy_intervals, confirmed_intervals = sympy_solve_intervals(cp_matrix, cp_config, cp_hyperparameters, det_indep=False)"
   ]
  }
 ],
 "metadata": {
  "interpreter": {
   "hash": "f336cad6fe0400acb6be73673a858595ff5f79cefd0dee5173965bcb3aeeb558"
  },
  "kernelspec": {
   "display_name": "Python 3.8.9 64-bit ('3.8.9': pyenv)",
   "language": "python",
   "name": "python3"
  },
  "language_info": {
   "codemirror_mode": {
    "name": "ipython",
    "version": 3
   },
   "file_extension": ".py",
   "mimetype": "text/x-python",
   "name": "python",
   "nbconvert_exporter": "python",
   "pygments_lexer": "ipython3",
   "version": "3.8.9"
  },
  "orig_nbformat": 4
 },
 "nbformat": 4,
 "nbformat_minor": 2
}

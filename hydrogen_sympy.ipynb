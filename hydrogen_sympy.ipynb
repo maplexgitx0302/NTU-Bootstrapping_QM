{
 "cells": [
  {
   "cell_type": "markdown",
   "metadata": {},
   "source": [
    "# Bootstrapping with Coulomb Potential (Hydrogen Atom)\n",
    "\n",
    "In this code, we demonstrate radial Coulomb potential with $\\hbar = 1$ and $m_e = 1$. We begin with\n",
    "\n",
    "\\begin{align*}\n",
    "    H &= \\frac{P_r^2}{2m_e} + \\frac{l(l+1)}{2m_er^2}\\hbar^2 + V(r)\\\\\n",
    "    V(r) &= -\\frac{e^2}{4\\pi\\epsilon_0r} = -\\frac{k}{r}\\\\\n",
    "    [r,P_r] &= i\n",
    "\\end{align*}\n",
    "\n",
    "We see that the Hamiltonian is similar to 1-D Harmonic potential, with additional angular term $\\frac{l(l+1)}{2r^2}$. So we just need to consider the additional commutation relation of the additional angular term. (Denote $P_r=P$ in the following)\n",
    "\n",
    "\\begin{align*}\n",
    "    [H, r^{s}P] &= 0 = \n",
    "    -\\frac{1}{2}s(s-1)\\langle r^{s-2}P\\rangle \n",
    "    -is\\langle r^{s-1}P^2\\rangle\n",
    "    +i\\langle r^{s}V^\\prime(r)\\rangle\n",
    "    -il(l+1)\\langle r^{s-3}\\rangle\\\\\n",
    "    \n",
    "    [H, r^{s-1}] &= 0 =\n",
    "    -\\frac{1}{2}(s-1)(s-2)\\langle r^{s-3}\\rangle\n",
    "    -i(s-1)\\langle r^{s-2}P\\rangle\n",
    "\\end{align*}\n",
    "\n",
    "With the same trick and the same algebraic calcukation, we get the final recursion relation\n",
    "\\begin{equation*}\n",
    "    0 = 2sE\\langle r^{s-1}\\rangle + \\frac{1}{4}s(s-1)(s-2)\\langle r^{s-3}\\rangle \n",
    "    - \\langle r^s V^\\prime (r)\\rangle - 2s\\langle r^{s-1}V(r)\\rangle -(s-1)l(l+1)\\langle r^{s-3}\\rangle\n",
    "\\end{equation*}\n",
    "\n",
    "**Note according to the author, $l=0$ case will be failed with  Bootstrapping, the reason in not clear yet.**"
   ]
  },
  {
   "cell_type": "code",
   "execution_count": 1,
   "metadata": {},
   "outputs": [],
   "source": [
    "import os, time\n",
    "import numpy as np\n",
    "import sympy as sp\n",
    "from bootstrap_sympy import sympy_solve_intervals, plot_energy_interval\n",
    "\n",
    "import matplotlib.pyplot as plt\n",
    "import seaborn as sns"
   ]
  },
  {
   "cell_type": "markdown",
   "metadata": {},
   "source": [
    "## Recursion relation for 3-d Coulomb potential\n",
    "\n",
    "Plug in $V(r)=-\\frac{k}{r}$ into the recursion relation, we get\n",
    "\n",
    "\\begin{equation*}\n",
    "    8(s+1)E\\langle r^s\\rangle = -4(2s+1)k\\langle r^{s-1}\\rangle\n",
    "    + 4sl(l+1)\\langle r^{s-2}\\rangle - s(s+1)(s-1)\\langle r^{s-2}\\rangle\n",
    "\\end{equation*}\n",
    "\n",
    "Take $s=0$ we get $\\langle r^{-1}\\rangle=-\\frac{2E}{k}$ . If $s>0$\n",
    "\n",
    "\\begin{equation*}\n",
    "    -E\\langle r^s\\rangle = \\frac{k(2s+1)}{2(s+1)}\\langle r^{s-1}\\rangle\n",
    "    + [\\frac{s(s-1)}{8} - \\frac{sl(l+1)}{2(s+1)}]\\langle r^{s-2}\\rangle\n",
    "\\end{equation*}\n",
    "\n",
    "$\\langle r^0\\rangle=1$ by normalization. Take $s=1$, we get $\\langle r^1\\rangle=-\\frac{3k}{4E}-\\frac{l(l+1)}{2k}$\n",
    "\n",
    "**Warning** : Since using sympy `solve_rational_inequalities` is slow, we transform $E^\\prime = -\\frac{1}{E}$, so that it will become a polynomial in $E^\\prime$."
   ]
  },
  {
   "cell_type": "code",
   "execution_count": 2,
   "metadata": {},
   "outputs": [],
   "source": [
    "class ColumbPotentialMatrix:\n",
    "    def __init__(self, N, angular_momentum=True):\n",
    "        self.N = N # maximum size of submatrix\n",
    "        self.k = sp.symbols('k') # constant of harmonic potential\n",
    "        self.E = sp.symbols('E') # eigen-energy to be solved (Note the true energy is 1/E)\n",
    "        self.l = sp.symbols('l') # angular momentum quantum number\n",
    "        self.angular_momentum = angular_momentum\n",
    "        \n",
    "    def evaluate(self):\n",
    "        '''\n",
    "            - If assign the value of other paramters (i.e., k) first, it will give the matrix element list with only E\n",
    "            - Otherwise it will represented ohter parameters with symbols\n",
    "        '''\n",
    "        self.rs_list = [] # list of r^s, the expectation value of position operator r to the s power\n",
    "        for i in range(2*(self.N-1)+1):\n",
    "            if i >= 2:\n",
    "                self.rs_list.append(self.rs_recursion(s=i, rs_1=self.rs_list[i-1], rs_2=self.rs_list[i-2]))\n",
    "            else:\n",
    "                self.rs_list.append(self.rs_recursion(s=i))\n",
    "\n",
    "    def rs_recursion(self, s, rs_1=None, rs_2=None):\n",
    "        '''\n",
    "            Find the <r^s> with recursion relation\n",
    "        '''\n",
    "        E = -1/self.E # Note we have transformed  E^\\prime = -(1/E)\n",
    "        k = self.k\n",
    "        l = self.l\n",
    "        if s == 0:\n",
    "            return 1\n",
    "        elif s == 1:\n",
    "            result = -sp.Rational(3,4) * k / E\n",
    "            if self.angular_momentum:\n",
    "                result += -sp.Rational(1,2) * l*(l+1) / k\n",
    "            return result\n",
    "        else:\n",
    "            if rs_1 == None or rs_2 == None:\n",
    "                rs_1 = self.rs_recursion(s-1)\n",
    "                rs_2 = self.rs_recursion(s-2)\n",
    "            result  = k * sp.Rational(2*s+1,2*s+2) * rs_1 * (-1/E)\n",
    "            result += sp.Rational(s*(s-1),8) * rs_2 * (-1/E)\n",
    "            if self.angular_momentum:\n",
    "                result += -sp.Rational(s,2*s+2) * l*(l+1) * rs_2 * (-1/E)\n",
    "            return sp.simplify(result)\n",
    "\n",
    "    def submatrix(self, K):\n",
    "        '''\n",
    "            K by K matrix's [i,j] element = <r^(i+j)>\n",
    "        '''\n",
    "        return sp.Matrix([[self.rs_list[i+j] for j in range(K)] for i in range(K)])"
   ]
  },
  {
   "cell_type": "markdown",
   "metadata": {},
   "source": [
    "## Set hyperparameters\n",
    "\n",
    "We set hyperparameters in the `config` dictionary. Here is some following instructions of the function `matrix.evaluate()`:\n",
    "- If you want to see the expression of matrix elements and determinants with other explicit parameters (i.e., $k$), please evaluate the matrix before assigning numerical values, or just simply remove lines `matrix.k = ...`  , .etc.\n",
    "- On the other hand, to accelerate the computation, please assign the numerical values (except $E$) before `matrix.evaluate()`\n",
    "\n",
    "**Warning** : According to the author, $l=0$ will be failed."
   ]
  },
  {
   "cell_type": "code",
   "execution_count": 3,
   "metadata": {},
   "outputs": [
    {
     "name": "stdout",
     "output_type": "stream",
     "text": [
      "Checkpoint exists, checkpoint max K=25\n",
      "\n"
     ]
    }
   ],
   "source": [
    "# saving paths\n",
    "save_dir = os.path.abspath('hydrogen')\n",
    "if not os.path.exists(save_dir):\n",
    "    os.mkdir(save_dir)\n",
    "\n",
    "cp_config = {\n",
    "    'round' : 25, # maximum size of submatrix to compute the determinant\n",
    "    'threshold' : 1e-2, # threshold to keep small intervals\n",
    "    'initial_interval' : sp.Interval(0, sp.oo), # Expect the energy after transformation to be positive\n",
    "}\n",
    "\n",
    "cp_matrix = ColumbPotentialMatrix(N=cp_config['round'], angular_momentum=True)\n",
    "cp_matrix.k = 1\n",
    "cp_matrix.l = 1 # set l>=1, otherwise l=0 will be failed\n",
    "\n",
    "k, l = cp_matrix.k, cp_matrix.l\n",
    "cp_config['npy_energy_intervals'] = os.path.join(save_dir, f\"energy_intervals_k{sp.N(k):.2f}_l{l}.npy\")\n",
    "cp_config['npy_confirmed_intervals'] = os.path.join(save_dir, f\"confirmed_intervals_k{sp.N(k):.2f}_l{l}.npy\")\n",
    "\n",
    "cp_matrix.evaluate()\n",
    "energy_intervals, confirmed_intervals = sympy_solve_intervals(cp_matrix, cp_config, mode='Poly', keep=False)"
   ]
  },
  {
   "cell_type": "markdown",
   "metadata": {},
   "source": [
    "## Theoretic energy eigenvalues\n",
    "\n",
    "For Hydrogen atom, the energy eigenvalues are $E_n=-\\frac{\\hbar^2}{2m_ea_0^2n^2}$, with the Bohr radius $a_0=\\frac{4\\pi\\epsilon_0\\hbar^2}{m_ee^2}=\\frac{\\hbar^2}{m_ek}$. We now set $m_e=\\hbar=1$, the Bohr radius becomes $a_0=\\frac{1}{k}$, and $E_n(k)=-\\frac{k^2}{2n^2}$. Note that the energy eigenvalues are independent of $l$. However, the principal quantum number $n$ should be greater than the angular momentum quantum number $l$, i.e. $n>l$. So when solving the energy eigenvalues  with bootstrapping method, we expect the energy eigenvalues will start from $n=l+1$.\n",
    "\n",
    "**Warning** : Since we have transform $E^\\prime=-\\frac{1}{E}$, the energy intervals we solved will be $E^\\prime=\\frac{2n^2}{k^2}$."
   ]
  },
  {
   "cell_type": "code",
   "execution_count": 5,
   "metadata": {},
   "outputs": [
    {
     "data": {
      "image/png": "[encoded data removed]",
      "text/plain": [
       "<Figure size 864x576 with 1 Axes>"
      ]
     },
     "metadata": {},
     "output_type": "display_data"
    }
   ],
   "source": [
    "if confirmed_intervals != None:\n",
    "    print(f\"Confirmed intervals = {sp.N(confirmed_intervals)}\")\n",
    "\n",
    "cp_config['plot_step'] = 3 # how often to plot the result\n",
    "cp_config['x_inf'] = 0 # infimum for x-axis when plotting\n",
    "cp_config['x_sup'] = 150 # supremum for x-axis when plotting\n",
    "\n",
    "energy_eigenvalues = [2*(n**2)/k**2 for n in range(1, cp_config['round']+1)]\n",
    "x_ticks = [r\"$E_{{{}}}$\".format(i) for i in range(len(energy_eigenvalues))]\n",
    "\n",
    "np.save(cp_config['npy_energy_intervals'], energy_intervals, allow_pickle=True)\n",
    "np.save(cp_config['npy_confirmed_intervals'], confirmed_intervals, allow_pickle=True)\n",
    "\n",
    "sns.set_style('dark')\n",
    "sns.set(font_scale=2)\n",
    "fig, ax = plot_energy_interval(energy_intervals, energy_eigenvalues, x_ticks, cp_config)\n",
    "ax.set_title(f\"Hydrogen Atom $k$={sp.N(k):.2f} and $l$={l}\")\n",
    "ax.set_xlabel(r\"$E_n=\\frac{2n^2}{k^2}$ with $n>l$\")\n",
    "plt.savefig(os.path.join(save_dir, f\"result_N{cp_config['round']}_k{sp.N(k):.2f}_l{l}.png\"))"
   ]
  }
 ],
 "metadata": {
  "interpreter": {
   "hash": "f336cad6fe0400acb6be73673a858595ff5f79cefd0dee5173965bcb3aeeb558"
  },
  "kernelspec": {
   "display_name": "Python 3.8.9 64-bit ('3.8.9': pyenv)",
   "language": "python",
   "name": "python3"
  },
  "language_info": {
   "codemirror_mode": {
    "name": "ipython",
    "version": 3
   },
   "file_extension": ".py",
   "mimetype": "text/x-python",
   "name": "python",
   "nbconvert_exporter": "python",
   "pygments_lexer": "ipython3",
   "version": "3.8.9"
  },
  "orig_nbformat": 4
 },
 "nbformat": 4,
 "nbformat_minor": 2
}
